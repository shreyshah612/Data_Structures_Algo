{
 "cells": [
  {
   "cell_type": "code",
   "execution_count": null,
   "metadata": {},
   "outputs": [],
   "source": [
    "# Fly Straight Damit\n",
    "import math\n",
    "import seaborn as sns\n",
    "import matplotlib.pyplot as plt\n",
    "\n",
    "# this is special jupyter function for mplib graph to appear in jupyter\n",
    "%matplotlib inline\n",
    "\n",
    "def compGCD(x, y): \n",
    "      \n",
    "    if(x > y): \n",
    "        small = int(y) \n",
    "    else: \n",
    "        small = int(x) \n",
    "    for i in range(1, small+1, 1): \n",
    "        if((x % i == 0) and (y % i == 0)): \n",
    "            gcd = i \n",
    "              \n",
    "    return int(gcd) \n",
    "\n",
    "n = []\n",
    "a = []\n",
    "\n",
    "for i in range(1000):\n",
    "    n.append(i)\n",
    "\n",
    "#print(n)\n",
    "\n",
    "for j in range(len(n)):\n",
    "    if(j==0):\n",
    "        a.append(1)\n",
    "    \n",
    "    elif(j==1):\n",
    "        a.append(1)\n",
    "    \n",
    "    else:\n",
    "        gcd = compGCD(n[j],a[j-1])\n",
    "        \n",
    "        if(gcd == 1):\n",
    "            a.append(int(a[j-1] + n[j] + 1))\n",
    "            \n",
    "        else:\n",
    "            a.append(int(a[j-1]/gcd))\n",
    "\n",
    "#print(a)\n",
    "\n",
    "\n",
    "\n",
    "plt.scatter(n, a, color='b',linewidth=0)\n",
    "plt.show()"
   ]
  },
  {
   "cell_type": "code",
   "execution_count": null,
   "metadata": {},
   "outputs": [],
   "source": []
  },
  {
   "cell_type": "code",
   "execution_count": null,
   "metadata": {},
   "outputs": [],
   "source": []
  }
 ],
 "metadata": {
  "kernelspec": {
   "display_name": "Python 3",
   "language": "python",
   "name": "python3"
  },
  "language_info": {
   "codemirror_mode": {
    "name": "ipython",
    "version": 3
   },
   "file_extension": ".py",
   "mimetype": "text/x-python",
   "name": "python",
   "nbconvert_exporter": "python",
   "pygments_lexer": "ipython3",
   "version": "3.7.2"
  }
 },
 "nbformat": 4,
 "nbformat_minor": 2
}
